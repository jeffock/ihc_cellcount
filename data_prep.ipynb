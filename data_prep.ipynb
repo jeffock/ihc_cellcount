{
 "cells": [
  {
   "cell_type": "code",
   "execution_count": 21,
   "metadata": {},
   "outputs": [],
   "source": [
    "#imports\n",
    "\n",
    "from PIL import Image\n",
    "import os\n",
    "import glob\n",
    "\n",
    "# Note, must start with 'Data' folder housing original data to analyze"
   ]
  },
  {
   "cell_type": "markdown",
   "metadata": {},
   "source": [
    "# .tif Files"
   ]
  },
  {
   "cell_type": "code",
   "execution_count": 16,
   "metadata": {},
   "outputs": [],
   "source": [
    "#black and white\n",
    "\n",
    "def convert_tif_to_bw(input_directory, output_directory):\n",
    "    # Create the output directory if it doesn't exist\n",
    "    os.makedirs(output_directory, exist_ok=True)\n",
    "\n",
    "    file_list = os.listdir(input_directory)\n",
    "\n",
    "    for filename in file_list:\n",
    "        if filename.lower().endswith('.tif'):\n",
    "            img_path = os.path.join(input_directory, filename)\n",
    "            img = Image.open(img_path)\n",
    "            img_bw = img.convert('L')\n",
    "            output_path = os.path.join(output_directory, filename)\n",
    "            img_bw.save(output_path)"
   ]
  },
  {
   "cell_type": "code",
   "execution_count": 17,
   "metadata": {},
   "outputs": [],
   "source": [
    "input_directory = 'Data'\n",
    "output_directory = 'Data_BW'\n",
    "\n",
    "convert_tif_to_bw(input_directory, output_directory)"
   ]
  },
  {
   "cell_type": "code",
   "execution_count": 10,
   "metadata": {},
   "outputs": [],
   "source": [
    "# increase contrast\n",
    "\n",
    "def increase_contrast(input_directory, output_directory, contrast_factor=1.5):\n",
    "    # Create the output directory if it doesn't exist\n",
    "    os.makedirs(output_directory, exist_ok=True)\n",
    "\n",
    "    file_list = os.listdir(input_directory)\n",
    "\n",
    "    for filename in file_list:\n",
    "        if filename.lower().endswith('.tif'):\n",
    "            img_path = os.path.join(input_directory, filename)\n",
    "            img = Image.open(img_path)\n",
    "\n",
    "            # Increase the contrast by multiplying each pixel value by the contrast_factor\n",
    "            enhanced_img = Image.eval(img, lambda x: x * contrast_factor)\n",
    "\n",
    "            # Save the enhanced image in the output directory\n",
    "            output_path = os.path.join(output_directory, filename)\n",
    "            enhanced_img.save(output_path)"
   ]
  },
  {
   "cell_type": "code",
   "execution_count": 18,
   "metadata": {},
   "outputs": [],
   "source": [
    "input_directory = 'Data_BW'\n",
    "output_directory = 'Data_BW_Contr'\n",
    "contrast_factor = 2  # You can adjust the contrast factor as needed\n",
    "\n",
    "increase_contrast(input_directory, output_directory, contrast_factor)"
   ]
  },
  {
   "cell_type": "code",
   "execution_count": 12,
   "metadata": {},
   "outputs": [],
   "source": [
    "# tif to jpg/jpeg\n",
    "\n",
    "def convert_tif_to_jpeg(input_directory, output_directory):\n",
    "    # Create the output directory if it doesn't exist\n",
    "    os.makedirs(output_directory, exist_ok=True)\n",
    "\n",
    "    file_list = os.listdir(input_directory)\n",
    "\n",
    "    for filename in file_list:\n",
    "        if filename.lower().endswith('.tif'):\n",
    "            img_path = os.path.join(input_directory, filename)\n",
    "            img = Image.open(img_path)\n",
    "\n",
    "            # Convert the image to RGB mode (required for saving as JPEG)\n",
    "            rgb_img = img.convert('RGB')\n",
    "\n",
    "            # Change the file extension to .jpeg (or .jpg)\n",
    "            jpeg_filename = os.path.splitext(filename)[0] + '.jpeg'\n",
    "            output_path = os.path.join(output_directory, jpeg_filename)\n",
    "\n",
    "            # Save the JPEG image\n",
    "            rgb_img.save(output_path, format='JPEG')"
   ]
  },
  {
   "cell_type": "code",
   "execution_count": 19,
   "metadata": {},
   "outputs": [],
   "source": [
    "input_directory = 'Data_BW_Contr'\n",
    "output_directory = 'Data_JPEG'\n",
    "\n",
    "convert_tif_to_jpeg(input_directory, output_directory)"
   ]
  },
  {
   "cell_type": "code",
   "execution_count": 23,
   "metadata": {},
   "outputs": [],
   "source": [
    "# tif in all subdir to jpg/jpeg\n",
    "\n",
    "def convert_tif_to_jpg(input_directory):\n",
    "    # Get the list of all TIF files in the input directory and its subdirectories\n",
    "    tif_files = glob.glob(os.path.join(input_directory, '**/*.tif'), recursive=True)\n",
    "\n",
    "    for tif_file in tif_files:\n",
    "        # Open the TIF file and save it as a JPG file\n",
    "        with Image.open(tif_file) as img:\n",
    "            jpg_file = os.path.splitext(tif_file)[0] + '.jpg'\n",
    "            img.convert('RGB').save(jpg_file, format='JPEG')\n",
    "\n",
    "        # Delete the original TIF file\n",
    "        os.remove(tif_file)"
   ]
  },
  {
   "cell_type": "code",
   "execution_count": 25,
   "metadata": {},
   "outputs": [],
   "source": [
    "input_directory = 'Data'\n",
    "convert_tif_to_jpg(input_directory)"
   ]
  },
  {
   "cell_type": "code",
   "execution_count": 14,
   "metadata": {},
   "outputs": [],
   "source": [
    "#jpeg to png\n",
    "\n",
    "def convert_jpeg_to_png(input_directory, output_directory):\n",
    "    # Create the output directory if it doesn't exist\n",
    "    os.makedirs(output_directory, exist_ok=True)\n",
    "\n",
    "    file_list = os.listdir(input_directory)\n",
    "\n",
    "    for filename in file_list:\n",
    "        if filename.lower().endswith('.jpeg') or filename.lower().endswith('.jpg'):\n",
    "            img_path = os.path.join(input_directory, filename)\n",
    "            img = Image.open(img_path)\n",
    "\n",
    "            # Change the file extension to .png\n",
    "            png_filename = os.path.splitext(filename)[0] + '.png'\n",
    "            output_path = os.path.join(output_directory, png_filename)\n",
    "\n",
    "            # Save the image in PNG format\n",
    "            img.save(output_path, format='PNG')"
   ]
  },
  {
   "cell_type": "code",
   "execution_count": 20,
   "metadata": {},
   "outputs": [],
   "source": [
    "input_directory = 'Data_JPEG'\n",
    "output_directory = 'Data_PNG'\n",
    "\n",
    "convert_jpeg_to_png(input_directory, output_directory)"
   ]
  },
  {
   "cell_type": "code",
   "execution_count": 28,
   "metadata": {},
   "outputs": [],
   "source": [
    "# add IMG_ to filenames\n",
    "\n",
    "def add_prefix_to_filenames(input_directory):\n",
    "    # Get the list of all TIF files in the input directory and its subdirectories\n",
    "    tif_files = glob.glob(os.path.join(input_directory, '**/*.jpg'), recursive=True)\n",
    "\n",
    "    for tif_file in tif_files:\n",
    "        # Get the new filename with the 'IMG_' prefix added\n",
    "        new_filename = os.path.join(os.path.dirname(tif_file), f'IMG_{os.path.basename(tif_file)}')\n",
    "\n",
    "        # Rename the TIF file with the new filename\n",
    "        os.rename(tif_file, new_filename)"
   ]
  },
  {
   "cell_type": "code",
   "execution_count": 29,
   "metadata": {},
   "outputs": [],
   "source": [
    "input_directory = 'Data'\n",
    "add_prefix_to_filenames(input_directory)"
   ]
  },
  {
   "cell_type": "markdown",
   "metadata": {},
   "source": [
    "# .jpg/.jpeg Files"
   ]
  },
  {
   "cell_type": "code",
   "execution_count": null,
   "metadata": {},
   "outputs": [],
   "source": []
  },
  {
   "cell_type": "markdown",
   "metadata": {},
   "source": [
    "# .png Files"
   ]
  }
 ],
 "metadata": {
  "kernelspec": {
   "display_name": "Python 3",
   "language": "python",
   "name": "python3"
  },
  "language_info": {
   "codemirror_mode": {
    "name": "ipython",
    "version": 3
   },
   "file_extension": ".py",
   "mimetype": "text/x-python",
   "name": "python",
   "nbconvert_exporter": "python",
   "pygments_lexer": "ipython3",
   "version": "3.9.13"
  },
  "orig_nbformat": 4
 },
 "nbformat": 4,
 "nbformat_minor": 2
}
