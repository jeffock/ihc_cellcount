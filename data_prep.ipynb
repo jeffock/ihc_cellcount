{
 "cells": [
  {
   "cell_type": "code",
   "execution_count": 1,
   "metadata": {},
   "outputs": [],
   "source": [
    "#imports\n",
    "\n",
    "from PIL import Image\n",
    "import os\n",
    "\n",
    "# Note, must start with 'Data' folder housing original data to analyze"
   ]
  },
  {
   "cell_type": "markdown",
   "metadata": {},
   "source": [
    "# .tif Files"
   ]
  },
  {
   "cell_type": "code",
   "execution_count": 5,
   "metadata": {},
   "outputs": [],
   "source": [
    "#black and white\n",
    "\n",
    "def convert_tif_to_bw(input_directory, output_directory):\n",
    "    # Create the output directory if it doesn't exist\n",
    "    os.makedirs(output_directory, exist_ok=True)\n",
    "\n",
    "    file_list = os.listdir(input_directory)\n",
    "\n",
    "    for filename in file_list:\n",
    "        if filename.lower().endswith('.tif'):\n",
    "            img_path = os.path.join(input_directory, filename)\n",
    "            img = Image.open(img_path)\n",
    "            img_bw = img.convert('L')\n",
    "            output_path = os.path.join(output_directory, filename)\n",
    "            img_bw.save(output_path)"
   ]
  },
  {
   "cell_type": "code",
   "execution_count": 6,
   "metadata": {},
   "outputs": [],
   "source": [
    "input_directory = 'Data'\n",
    "output_directory = 'Data_BW'\n",
    "\n",
    "convert_tif_to_bw(input_directory, output_directory)"
   ]
  },
  {
   "cell_type": "code",
   "execution_count": 8,
   "metadata": {},
   "outputs": [],
   "source": [
    "# increase contrast\n",
    "\n",
    "def increase_contrast(input_directory, output_directory, contrast_factor=1.5):\n",
    "    # Create the output directory if it doesn't exist\n",
    "    os.makedirs(output_directory, exist_ok=True)\n",
    "\n",
    "    file_list = os.listdir(input_directory)\n",
    "\n",
    "    for filename in file_list:\n",
    "        if filename.lower().endswith('.tif'):\n",
    "            img_path = os.path.join(input_directory, filename)\n",
    "            img = Image.open(img_path)\n",
    "\n",
    "            # Increase the contrast by multiplying each pixel value by the contrast_factor\n",
    "            enhanced_img = Image.eval(img, lambda x: x * contrast_factor)\n",
    "\n",
    "            # Save the enhanced image in the output directory\n",
    "            output_path = os.path.join(output_directory, filename)\n",
    "            enhanced_img.save(output_path)"
   ]
  },
  {
   "cell_type": "code",
   "execution_count": 10,
   "metadata": {},
   "outputs": [],
   "source": [
    "input_directory = 'Data_BW'\n",
    "output_directory = 'Data_BW_Contr'\n",
    "contrast_factor = 2  # You can adjust the contrast factor as needed\n",
    "\n",
    "increase_contrast(input_directory, output_directory, contrast_factor)"
   ]
  },
  {
   "cell_type": "markdown",
   "metadata": {},
   "source": [
    "# .jpg/.jpeg Files"
   ]
  },
  {
   "cell_type": "code",
   "execution_count": null,
   "metadata": {},
   "outputs": [],
   "source": []
  },
  {
   "cell_type": "markdown",
   "metadata": {},
   "source": [
    "# .png Files"
   ]
  }
 ],
 "metadata": {
  "kernelspec": {
   "display_name": "Python 3",
   "language": "python",
   "name": "python3"
  },
  "language_info": {
   "codemirror_mode": {
    "name": "ipython",
    "version": 3
   },
   "file_extension": ".py",
   "mimetype": "text/x-python",
   "name": "python",
   "nbconvert_exporter": "python",
   "pygments_lexer": "ipython3",
   "version": "3.9.13"
  },
  "orig_nbformat": 4
 },
 "nbformat": 4,
 "nbformat_minor": 2
}
